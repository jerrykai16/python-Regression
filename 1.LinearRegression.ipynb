{
 "cells": [
  {
   "cell_type": "markdown",
   "metadata": {},
   "source": [
    "# Linear Regression (線性迴歸)"
   ]
  },
  {
   "cell_type": "markdown",
   "metadata": {},
   "source": [
    "## Housing 資料集\n",
    "此次使用的檔案為房價資料<br>\n",
    "housing_train.csv 與 housing_test.csv 兩個檔案中紀錄的資料說明如下:<br>\n",
    "* 第一欄 price 為房屋價格\n",
    "* 第二欄 area 為房屋的大小\n",
    "* 第三欄 bedrooms 為臥室的數量\n",
    "* 第四欄 bathrooms 為浴室的數量\n",
    "* 第五欄 parking 為停車位的數量\n",
    "\n",
    "我們希望將第2,3,4,5欄的房屋特徵當作X；第1欄的房價當作Y，找出線性方程式\n",
    "$$y=\\theta^Tx$$\n",
    "來預測房價。\n",
    "接下來我們會一步一步完成一個線性迴歸模型，輸入大小、臥室數、浴室數、停車位數給該模型，模型便會預測該房屋的售價。有幾點需要同學注意:<br>\n",
    "1. **以下程式區塊中，有🚧符號的地方需要同學們自己撰寫或修改程式碼，同學可以新增多行程式碼來完成功能**\n",
    "2. **程式碼中原始的函數名稱(def 後面的名稱)請不要更改，可能會造成後續的程式無法運行**\n",
    "3. **過程中會要求同學完成一些python函數，當中的參數多為矩陣形式，shape為[n,m]，當中的n代表的是資料的數量**\n"
   ]
  },
  {
   "cell_type": "markdown",
   "metadata": {},
   "source": [
    "## import 必要套件"
   ]
  },
  {
   "cell_type": "code",
   "execution_count": 1,
   "metadata": {},
   "outputs": [],
   "source": [
    "import numpy as np\n",
    "import pandas as pd"
   ]
  },
  {
   "cell_type": "markdown",
   "metadata": {},
   "source": [
    "## 載入訓練資料與測試資料 (3分)\n",
    "利用 pandas 載入資料<br>\n",
    "分別將訓練資料與測試資料儲存在 train_data 與 test_data 兩個變數中。<br>\n",
    "同時我們print出兩筆資料的shape，了解資料在各個維度的尺寸。\n",
    "\n",
    "**Hint: 用 pandas 載入兩個檔案的資料並將其轉換成 numpy 的形式儲存到 train_data 以及 test_data 中，最終train_data 的shape應該為[380,4]，test_data 為[80,3]**"
   ]
  },
  {
   "cell_type": "code",
   "execution_count": null,
   "metadata": {
    "tags": [
     "homework",
     "score"
    ]
   },
   "outputs": [],
   "source": [
    "train_data = None # 🚧 載入housing_train.csv的資料並轉換成numpy格式\n",
    "test_data = None # 🚧 載入housing_test.csv的資料並轉換成numpy格式\n",
    "\n",
    "print(train_data.shape)\n",
    "print(test_data.shape)"
   ]
  },
  {
   "cell_type": "markdown",
   "metadata": {},
   "source": [
    "## Normalization (正規化) (3分)\n",
    "在開始前我們必須將資料 normalize (正規化)後得到$\\hat{x}$。標準化的公式如下:\n",
    "$$\n",
    "\\hat{x}=\\frac{x-mean(x)}{std(x)}\n",
    "$$\n",
    "簡單來說，就是將原始資料先減去該資料的平均值，再除以該資料的標準差。<br>\n",
    "資料正規化有以下好處:\n",
    "* 正規化的資料大多數會座落在-1~1之間，之後計算 MSE 數值可以收斂在相對小的範圍內，更容易觀察出模型差異\n",
    "* 每個特徵的數值大都座落在-1~1之間，不會有特徵的原始數值級距差異太大導致模型參數過大\n",
    "\n",
    "**具體作法**<br>\n",
    "以本次使用的資料為例，我們將大小、臥室數、浴室數、停車位數這些特徵分別以 $x_1$, $x_2$, $x_3$, $x_4$ 表示，而輸出資料的售價以$y$來表示；\n",
    "每一個特徵跟輸出都要分別計算正規化，如下:\n",
    "$$\n",
    "i\\in\\{ 1, 2, 3, 4\\}, \\quad \n",
    "\\hat{x_{i}}=\\frac{x_i-mean(x_i)}{std(x_i)}, \\quad\n",
    "\\hat{y}=\\frac{y-mean(y)}{std(y)}\n",
    "$$\n",
    "\n",
    "由於我們的資料又分為訓練跟測試兩筆不同的資料，在實作上我們只計算訓練資料的平均值跟標準差，等到進行測試時，再使用該平均值跟標準差來標準化測試資料。\n",
    "\n",
    "**Hint: 使用np.mean()與np.std()函數可以計算出平均值與標準差**"
   ]
  },
  {
   "cell_type": "code",
   "execution_count": null,
   "metadata": {
    "tags": [
     "homework",
     "score"
    ]
   },
   "outputs": [],
   "source": [
    "# 🚧 資料正規化"
   ]
  },
  {
   "cell_type": "markdown",
   "metadata": {},
   "source": [
    "## 分離輸入特徵(x)與輸出資料(y)\n",
    "將訓練資料與測試資料中的x(第2,3,4,5欄)與y(第1欄)資料分離\n",
    "分離候用以下變數儲存：\n",
    "* 訓練資料(共有N筆)\n",
    "    * x_train: 訓練資料的輸入特徵，尺寸為[N,4]\n",
    "    * y_train: 訓練資料的輸出，將最後的尺寸調整為[N, 1]，以利後面的運算\n",
    "* 測試資料(共有U筆)\n",
    "    * x_test: 測試資料的輸入特徵，尺寸為[U,4]\n",
    "    * y_test: 測試資料的輸出，將最後的尺寸調整為[U, 1]，以利後面的運算"
   ]
  },
  {
   "cell_type": "code",
   "execution_count": null,
   "metadata": {
    "tags": [
     "homework"
    ]
   },
   "outputs": [],
   "source": [
    "# 🚧 分離訓練資料\n",
    "x_train = None\n",
    "y_train = None\n",
    "\n",
    "\n",
    "# 🚧 分離測試資料\n",
    "x_test = None\n",
    "y_test = None"
   ]
  },
  {
   "cell_type": "markdown",
   "metadata": {},
   "source": [
    "## 對 x 資料新增常數項 (4分)\n",
    "除了資料中包含的原始兩項特徵之外，我們需要額外新增一個數值為1的特徵，使我們的線性方程式包含常數項。若我們總共有N筆資料，具體做法為:<br>\n",
    "1. 原始 *x* 資料尺寸為 [Nx4]\n",
    "2. 新增一個尺寸為 [Nx1] 且數值皆為1的向量\n",
    "3. 使用 ***np.concatenate*** 函數將 *x* 與其拼合成一筆 [Nx5] 的資料"
   ]
  },
  {
   "cell_type": "code",
   "execution_count": null,
   "metadata": {
    "tags": [
     "homework",
     "score"
    ]
   },
   "outputs": [],
   "source": [
    "# 🚧 對訓練資料的x新增數值為1的向量\n",
    "x_train = None\n",
    "\n",
    "# 🚧 對測試資料的x新增數值為1的向量\n",
    "x_test = None"
   ]
  },
  {
   "cell_type": "markdown",
   "metadata": {},
   "source": [
    "## 定義模型 (3分)\n",
    "線性函數:\n",
    "$$x^i\\in R^{5\\times 1}, \\theta \\in R^{5\\times 1}, z^i \\in R^{1}$$\n",
    "$$z^i= \\theta^Tx^i$$\n",
    "線性函數(矩陣形式):\n",
    "$$X\\in R^{N\\times 5}, \\theta \\in R^{5\\times 1}, Z \\in R^{N \\times 1}$$\n",
    "$$Z = X\\theta$$\n",
    "\n",
    "**Hint: 在下方我們會定義 python 的函數 linear_model(x, theta)。**<br>\n",
    "**參數x的shape為[n, 5]，n代表多筆資料的數量，5代表4個特徵+1個常數項。**<br>\n",
    "**theta是線性模型的參數，shape為[5,1]，這個尺寸也是因為4個特徵跟1個常數項所致。**"
   ]
  },
  {
   "cell_type": "code",
   "execution_count": null,
   "metadata": {
    "tags": [
     "homework",
     "score"
    ]
   },
   "outputs": [],
   "source": [
    "def linear_model(x, theta):\n",
    "    z=x # 🚧 在這行定義線性函數，使用矩陣形式的乘法\n",
    "    return z"
   ]
  },
  {
   "cell_type": "markdown",
   "metadata": {},
   "source": [
    "## 定義 Loss Function (損失函數) (3分)\n",
    "在 Linear Regression 中:\n",
    "$$h(x^i)=\\theta^Tx^i$$\n",
    "損失函數 (MSE): \n",
    "$$L(\\theta)=\\frac{1}{N}\\sum_{i=1}^{N}(y^i-\\theta^Tx^i)^2$$"
   ]
  },
  {
   "cell_type": "code",
   "execution_count": 2,
   "metadata": {
    "tags": [
     "homework",
     "score"
    ]
   },
   "outputs": [],
   "source": [
    "def get_loss(y_, y):\n",
    "    loss = 0 # 🚧 y_為模型的輸出，y為真實資料，定義損失函數 \n",
    "    return loss\n",
    "    "
   ]
  },
  {
   "cell_type": "markdown",
   "metadata": {},
   "source": [
    "## Normal Equation (4分)\n",
    "這邊我們使用線性迴歸的解析解，Normal Equation:\n",
    "$$\n",
    "\\theta = (X^TX)^{-1}X^TY\n",
    "$$\n",
    "切記此公式中標記的各項是使用矩陣形式，在這份作業中:\n",
    "$$X\\in R^{N\\times 5}, \\theta \\in R^{5\\times 1}, Z \\in R^{N \\times 1}$$\n",
    "**Hint: 矩陣的反矩陣可以使用np.linalg.inv()求出，但有時會遇到無法求出反矩陣的情況，這時要使用np.linalg.pinv()**"
   ]
  },
  {
   "cell_type": "code",
   "execution_count": null,
   "metadata": {
    "tags": [
     "homework",
     "score"
    ]
   },
   "outputs": [],
   "source": [
    "def fit(x, y):\n",
    "    theta = None # 🚧 在這裡完成 Normal Equation\n",
    "    return theta"
   ]
  },
  {
   "cell_type": "markdown",
   "metadata": {},
   "source": [
    "##### 使用 fit()函數計算出模型參數 theta"
   ]
  },
  {
   "cell_type": "code",
   "execution_count": null,
   "metadata": {
    "tags": [
     "homework"
    ]
   },
   "outputs": [],
   "source": [
    "theta = fit(x_train, y_train)"
   ]
  },
  {
   "cell_type": "markdown",
   "metadata": {},
   "source": [
    "## 計算並列出最終Loss (10分)"
   ]
  },
  {
   "cell_type": "code",
   "execution_count": null,
   "metadata": {
    "tags": [
     "homework",
     "score"
    ]
   },
   "outputs": [],
   "source": [
    "# 使用訓練資料測試模型\n",
    "y_ = linear_model(x_train, theta)\n",
    "loss_train = get_loss(y_, y_train)\n",
    "print(f'Training Loss: {loss_train}')\n",
    "\n",
    "# 使用測試資料測試模型\n",
    "y_ = linear_model(x_test, theta)\n",
    "loss_test =get_loss(y_, y_test)\n",
    "print(f'Test Loss: {loss_test}')"
   ]
  },
  {
   "cell_type": "markdown",
   "metadata": {},
   "source": [
    "## 二次多項式迴歸 (20分)\n",
    "根據講義L2的內容，將原始的特徵$x_1$, $x_2$, $x_3$, $x_4$ 再加入二次項($x_1^2$, $x_2^2$, $x_1x_2$...)進行迴歸。<br>\n",
    "\n",
    "完成後print出二次項迴歸模型在訓練資料跟測試資料的Loss\n",
    "\n",
    "**Hint: 原始的x尺寸包含常數項為[N,5]，4個未知數的二次項會有10個(4+3+2+1)，加入二次項後的x應該會變為[N,15]**"
   ]
  },
  {
   "cell_type": "code",
   "execution_count": null,
   "metadata": {
    "tags": [
     "homework",
     "bonus",
     "score"
    ]
   },
   "outputs": [],
   "source": [
    "def feature_transform(x):\n",
    "    xx = x.copy() # 🚧 拓展x使其成為二次多項式xx\n",
    "    return xx\n",
    "\n",
    "xx_train = feature_transform(x_train)\n",
    "xx_test = feature_transform(x_test)\n",
    "\n",
    "theta = fit(xx_train, y_train)\n",
    "\n",
    "# 使用訓練資料測試模型\n",
    "y_ = linear_model(xx_train, theta)\n",
    "loss_train = get_loss(y_, y_train)\n",
    "print(f'Training Loss: {loss_train}')\n",
    "\n",
    "# 使用測試資料測試模型\n",
    "y_ = linear_model(xx_train, theta)\n",
    "loss_test =get_loss(y_, y_test)\n",
    "print(f'Test Loss: {loss_test}')"
   ]
  }
 ],
 "metadata": {
  "kernelspec": {
   "display_name": "ml",
   "language": "python",
   "name": "python3"
  },
  "language_info": {
   "codemirror_mode": {
    "name": "ipython",
    "version": 3
   },
   "file_extension": ".py",
   "mimetype": "text/x-python",
   "name": "python",
   "nbconvert_exporter": "python",
   "pygments_lexer": "ipython3",
   "version": "3.10.0"
  }
 },
 "nbformat": 4,
 "nbformat_minor": 2
}
